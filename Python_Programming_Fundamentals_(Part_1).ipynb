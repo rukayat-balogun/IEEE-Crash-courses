{
  "nbformat": 4,
  "nbformat_minor": 0,
  "metadata": {
    "colab": {
      "provenance": []
    },
    "kernelspec": {
      "name": "python3",
      "display_name": "Python 3"
    },
    "language_info": {
      "name": "python"
    }
  },
  "cells": [
    {
      "cell_type": "code",
      "execution_count": null,
      "metadata": {
        "id": "AgQdFAK6BlgD"
      },
      "outputs": [],
      "source": [
        "#Variable Naming\n",
        "\n",
        "\n",
        "name = \"Python\"\n",
        "#name is a variable name\n",
        "# = is an assignment\n",
        "#Python is value\n",
        "\n",
        "#1. must not be a keyword\n",
        "#2. must not contain space\n",
        "#3. must not contain a special character (!,@£?><:\"}{+}\") _\n",
        "#4. must not start with a numeric value (1name)wrong , name1(right)"
      ]
    },
    {
      "cell_type": "code",
      "source": [
        "# Variable Type\n",
        "# 1. String = \" \", ''\n",
        "# 2. Numeric= int(whole number), float(decimal)\n",
        "# 3. Boolean= True or False"
      ],
      "metadata": {
        "id": "XrDb-Mx9DRSt"
      },
      "execution_count": null,
      "outputs": []
    },
    {
      "cell_type": "code",
      "source": [
        "#Maths Ops\n",
        "\n",
        "# Addition +\n",
        "# Subtraction -\n",
        "# Multiplication *\n",
        "# Division /\n",
        "# Modulus %\n",
        "# Floor //\n",
        "\n",
        "num1 = 5\n",
        "num2 = 7\n",
        "\n",
        "# num3 = num2 + num1\n",
        "# print(num3)\n",
        "\n",
        "\n",
        "# num4 = num2 - num1\n",
        "# print(num4)\n",
        "\n",
        "# num5 = num2 / num1\n",
        "# num5\n",
        "\n",
        "\n",
        "# num6 = num2 * num1\n",
        "# num6\n",
        "\n",
        "# num7 = num2 // num1\n",
        "# num7\n",
        "\n",
        "# num8 = num2 % num1\n",
        "# num8\n",
        "\n",
        "num9 = num2 ** num1  #7x7x7x7x7 (7^5)\n",
        "num9"
      ],
      "metadata": {
        "colab": {
          "base_uri": "https://localhost:8080/"
        },
        "id": "SOXamDhkFEOj",
        "outputId": "712e620f-23cf-4e5f-db27-0714b45a8737"
      },
      "execution_count": null,
      "outputs": [
        {
          "output_type": "execute_result",
          "data": {
            "text/plain": [
              "16807"
            ]
          },
          "metadata": {},
          "execution_count": 10
        }
      ]
    },
    {
      "cell_type": "code",
      "source": [
        "#String\n",
        "\n",
        "firstName = \"Tyler\"\n",
        "lastName = \"Smith\"\n",
        "\n",
        "fullName = firstName +\" \" +lastName\n",
        "fullName"
      ],
      "metadata": {
        "colab": {
          "base_uri": "https://localhost:8080/",
          "height": 35
        },
        "id": "6UHgINs4FrBZ",
        "outputId": "3ebaace7-62fe-4139-9cde-7a2067402a75"
      },
      "execution_count": null,
      "outputs": [
        {
          "output_type": "execute_result",
          "data": {
            "text/plain": [
              "'Tyler Smith'"
            ],
            "application/vnd.google.colaboratory.intrinsic+json": {
              "type": "string"
            }
          },
          "metadata": {},
          "execution_count": 14
        }
      ]
    },
    {
      "cell_type": "code",
      "source": [
        "#Formatting String\n",
        "print(f'{firstName} {lastName}')\n",
        "print(f'My first name is {firstName} and my last name is {lastName}.')"
      ],
      "metadata": {
        "colab": {
          "base_uri": "https://localhost:8080/"
        },
        "id": "TmY6WqP7HmpC",
        "outputId": "53dc4ddc-88ad-4fe5-d34f-d867c261fce9"
      },
      "execution_count": null,
      "outputs": [
        {
          "output_type": "stream",
          "name": "stdout",
          "text": [
            "Tyler Smith\n",
            "My first name is Tyler and my last name is Smith.\n"
          ]
        }
      ]
    },
    {
      "cell_type": "code",
      "source": [
        "print('My full name is {first} {last}.Sometime my family calls me {first} and my friends call me {last}'.format(first=\"Oluwakemi\", last=\"Oluremi\"))"
      ],
      "metadata": {
        "colab": {
          "base_uri": "https://localhost:8080/"
        },
        "id": "wJKQ4WfrIM6Q",
        "outputId": "2be3e153-96f2-4429-a459-7f1c60ce42ee"
      },
      "execution_count": null,
      "outputs": [
        {
          "output_type": "stream",
          "name": "stdout",
          "text": [
            "My full name is Oluwakemi Oluremi.Sometime my family calls me Oluwakemi and my friends call me Oluremi\n"
          ]
        }
      ]
    },
    {
      "cell_type": "code",
      "source": [
        "#String Methods\n",
        "\n",
        "firstName = \"Tyler\"\n",
        "lastName = \"Smith\"\n",
        "\n",
        "print(firstName.upper())"
      ],
      "metadata": {
        "colab": {
          "base_uri": "https://localhost:8080/"
        },
        "id": "p5c0NHgsJAkV",
        "outputId": "1145d4f9-f7ea-48ca-fbd4-7400b309ab3b"
      },
      "execution_count": null,
      "outputs": [
        {
          "output_type": "stream",
          "name": "stdout",
          "text": [
            "TYLER\n"
          ]
        }
      ]
    },
    {
      "cell_type": "code",
      "source": [
        "print(lastName.lower())"
      ],
      "metadata": {
        "colab": {
          "base_uri": "https://localhost:8080/"
        },
        "id": "GcAnhcLBKNZI",
        "outputId": "98223082-090b-41d5-c875-c8da0bea95fa"
      },
      "execution_count": null,
      "outputs": [
        {
          "output_type": "stream",
          "name": "stdout",
          "text": [
            "smith\n"
          ]
        }
      ]
    },
    {
      "cell_type": "code",
      "source": [
        "lastName.replace('S', \"$\")"
      ],
      "metadata": {
        "colab": {
          "base_uri": "https://localhost:8080/",
          "height": 35
        },
        "id": "XZ_lVhCdKRdJ",
        "outputId": "94437be5-0955-4430-d8f7-6a7027439b80"
      },
      "execution_count": null,
      "outputs": [
        {
          "output_type": "execute_result",
          "data": {
            "text/plain": [
              "'$mith'"
            ],
            "application/vnd.google.colaboratory.intrinsic+json": {
              "type": "string"
            }
          },
          "metadata": {},
          "execution_count": 24
        }
      ]
    },
    {
      "cell_type": "code",
      "source": [
        "sentence =\" This is a sentence.   \"\n",
        "print(\"-\".join(sentence))"
      ],
      "metadata": {
        "colab": {
          "base_uri": "https://localhost:8080/"
        },
        "id": "l5sCTdOnKd-J",
        "outputId": "38cb1317-3597-45dc-96d3-2ecbe1fc4923"
      },
      "execution_count": null,
      "outputs": [
        {
          "output_type": "stream",
          "name": "stdout",
          "text": [
            " -T-h-i-s- -i-s- -a- -s-e-n-t-e-n-c-e-.- - - \n"
          ]
        }
      ]
    },
    {
      "cell_type": "code",
      "source": [
        "\"*\".join(lastName)"
      ],
      "metadata": {
        "colab": {
          "base_uri": "https://localhost:8080/",
          "height": 35
        },
        "id": "PSeREIA7KjgQ",
        "outputId": "262b7eac-ee95-4b28-cdbc-e4f1d8428f46"
      },
      "execution_count": null,
      "outputs": [
        {
          "output_type": "execute_result",
          "data": {
            "text/plain": [
              "'S*m*i*t*h'"
            ],
            "application/vnd.google.colaboratory.intrinsic+json": {
              "type": "string"
            }
          },
          "metadata": {},
          "execution_count": 32
        }
      ]
    },
    {
      "cell_type": "code",
      "source": [
        "sentence.startswith(\"The\")"
      ],
      "metadata": {
        "colab": {
          "base_uri": "https://localhost:8080/"
        },
        "id": "BG663XnpLIUJ",
        "outputId": "c58675e9-2f6b-4ada-efdc-6b654a7d08c7"
      },
      "execution_count": null,
      "outputs": [
        {
          "output_type": "execute_result",
          "data": {
            "text/plain": [
              "False"
            ]
          },
          "metadata": {},
          "execution_count": 34
        }
      ]
    },
    {
      "cell_type": "code",
      "source": [
        "sentence.strip()"
      ],
      "metadata": {
        "colab": {
          "base_uri": "https://localhost:8080/",
          "height": 35
        },
        "id": "WDClhAS6LR1M",
        "outputId": "0ca8f88e-8328-4745-b216-7267d518df1d"
      },
      "execution_count": null,
      "outputs": [
        {
          "output_type": "execute_result",
          "data": {
            "text/plain": [
              "'This is a sentence.'"
            ],
            "application/vnd.google.colaboratory.intrinsic+json": {
              "type": "string"
            }
          },
          "metadata": {},
          "execution_count": 39
        }
      ]
    },
    {
      "cell_type": "code",
      "source": [
        "#Condition Statement\n",
        "x = 11\n",
        "\n",
        "if x < 5:\n",
        "  print('less than five')\n",
        "else:\n",
        "  print(\"greater or equal to five\")"
      ],
      "metadata": {
        "colab": {
          "base_uri": "https://localhost:8080/"
        },
        "id": "mUA-g1ZWLhNb",
        "outputId": "d4cd6205-698f-4748-f66d-c698f2f5687c"
      },
      "execution_count": null,
      "outputs": [
        {
          "output_type": "stream",
          "name": "stdout",
          "text": [
            "greater or equal to five\n"
          ]
        }
      ]
    },
    {
      "cell_type": "markdown",
      "source": [
        "TRUE + FALSE = FALSE\n",
        "FALSE + TRUE = FALSE\n",
        "TRUE + TRUE = TRUE"
      ],
      "metadata": {
        "id": "lBnShPGlUgFv"
      }
    },
    {
      "cell_type": "code",
      "source": [
        "if x > 20:\n",
        "  print(\"20\")\n",
        "elif x > 10 and x <20:\n",
        "  print(\"10-20\")\n",
        "else:\n",
        "  print(\"less than 10\")"
      ],
      "metadata": {
        "colab": {
          "base_uri": "https://localhost:8080/"
        },
        "id": "w7cpoKdvMFs1",
        "outputId": "b403a3d7-9510-4add-d6c7-677ae9676591"
      },
      "execution_count": null,
      "outputs": [
        {
          "output_type": "stream",
          "name": "stdout",
          "text": [
            "10-20\n"
          ]
        }
      ]
    },
    {
      "cell_type": "code",
      "source": [
        "score= int(input(\"Enter a number: \"))\n",
        "\n",
        "if score >= 70 and score <=100:\n",
        "  print(\"A\")\n",
        "elif score >= 60 and score <70:\n",
        "  print(\"B\")"
      ],
      "metadata": {
        "colab": {
          "base_uri": "https://localhost:8080/"
        },
        "id": "YnX0_zKONXbr",
        "outputId": "a641442b-2dd5-4dc4-a536-e2eb52ac87b4"
      },
      "execution_count": 3,
      "outputs": [
        {
          "output_type": "stream",
          "name": "stdout",
          "text": [
            "Enter a number: 80\n",
            "A\n"
          ]
        }
      ]
    },
    {
      "cell_type": "code",
      "source": [
        "#FOR LOOP\n",
        "\n",
        "sentence =\"This is a sentence.\"\n",
        "\n",
        "for l in sentence:\n",
        "  if l == \"e\":\n",
        "    print(l.replace(\"e\", \"$\"))\n",
        "  else:\n",
        "      print(l)\n",
        ""
      ],
      "metadata": {
        "id": "cq7BazeYNzzA",
        "colab": {
          "base_uri": "https://localhost:8080/"
        },
        "outputId": "813fe4b3-6930-4c46-bb0d-9649eb5b42c2"
      },
      "execution_count": 7,
      "outputs": [
        {
          "output_type": "stream",
          "name": "stdout",
          "text": [
            "T\n",
            "h\n",
            "i\n",
            "s\n",
            " \n",
            "i\n",
            "s\n",
            " \n",
            "a\n",
            " \n",
            "s\n",
            "$\n",
            "n\n",
            "t\n",
            "$\n",
            "n\n",
            "c\n",
            "$\n",
            ".\n"
          ]
        }
      ]
    },
    {
      "cell_type": "code",
      "source": [
        "#While loop\n",
        "\n",
        "counter = 0\n",
        "\n",
        "while counter < 10:\n",
        "  print(counter)\n",
        "  counter = counter + 1\n",
        ""
      ],
      "metadata": {
        "colab": {
          "base_uri": "https://localhost:8080/"
        },
        "id": "dm_B_eZ2V2ts",
        "outputId": "5ac8b6ac-b43a-4ff4-c484-ac189d60d5cf"
      },
      "execution_count": 9,
      "outputs": [
        {
          "output_type": "stream",
          "name": "stdout",
          "text": [
            "0\n",
            "1\n",
            "2\n",
            "3\n",
            "4\n",
            "5\n",
            "6\n",
            "7\n",
            "8\n",
            "9\n"
          ]
        }
      ]
    },
    {
      "cell_type": "code",
      "source": [
        "counter = 0\n",
        "while counter < 15:\n",
        "  counter = counter + 1\n",
        "  print(\"*\"*counter)"
      ],
      "metadata": {
        "colab": {
          "base_uri": "https://localhost:8080/"
        },
        "id": "KuFfLL7wXmd2",
        "outputId": "6d9930e6-7f1c-407a-d0d3-5cced5740be5"
      },
      "execution_count": 11,
      "outputs": [
        {
          "output_type": "stream",
          "name": "stdout",
          "text": [
            "*\n",
            "**\n",
            "***\n",
            "****\n",
            "*****\n",
            "******\n",
            "*******\n",
            "********\n",
            "*********\n",
            "**********\n",
            "***********\n",
            "************\n",
            "*************\n",
            "**************\n",
            "***************\n"
          ]
        }
      ]
    },
    {
      "cell_type": "code",
      "source": [
        "#Data Structure\n",
        "\n",
        "#list  []\n",
        "#tuple ()\n",
        "#dictionary {}\n",
        "#frozenset {}\n",
        "#set{}\n",
        "\n",
        "num = [] #square bracket\n",
        "numbers = [1,2,3,4,5,6,7,8,9,10]\n",
        "\n",
        "type(numbers)\n",
        "\n",
        "numbers\n"
      ],
      "metadata": {
        "colab": {
          "base_uri": "https://localhost:8080/"
        },
        "id": "nkOM2oI1ZI-t",
        "outputId": "cfbf88a3-d7aa-4adc-e871-dc205d266cde"
      },
      "execution_count": 12,
      "outputs": [
        {
          "output_type": "execute_result",
          "data": {
            "text/plain": [
              "list"
            ]
          },
          "metadata": {},
          "execution_count": 12
        }
      ]
    },
    {
      "cell_type": "code",
      "source": [
        "numbers[2:] #slice from position 2 to the end of the list"
      ],
      "metadata": {
        "colab": {
          "base_uri": "https://localhost:8080/"
        },
        "id": "sJP2DXJqed-5",
        "outputId": "4e1c1d7d-0763-4a31-beb0-343650c3bbab"
      },
      "execution_count": 15,
      "outputs": [
        {
          "output_type": "execute_result",
          "data": {
            "text/plain": [
              "[3, 4, 5, 6, 7, 8, 9, 10]"
            ]
          },
          "metadata": {},
          "execution_count": 15
        }
      ]
    },
    {
      "cell_type": "code",
      "source": [
        "for n in numbers:\n",
        "  print(n)"
      ],
      "metadata": {
        "colab": {
          "base_uri": "https://localhost:8080/"
        },
        "id": "wpOigR_Ye3FS",
        "outputId": "7a13c911-1003-467b-e43d-fd984632d8a4"
      },
      "execution_count": 16,
      "outputs": [
        {
          "output_type": "stream",
          "name": "stdout",
          "text": [
            "1\n",
            "2\n",
            "3\n",
            "4\n",
            "5\n",
            "6\n",
            "7\n",
            "8\n",
            "9\n",
            "10\n"
          ]
        }
      ]
    },
    {
      "cell_type": "code",
      "source": [
        "# numbers = [1,2,3,4,5,6,7,8,9,10]\n",
        "# for n in range(1,15):\n",
        "#   for num in numbers:\n",
        "#       print(n * num)"
      ],
      "metadata": {
        "id": "RosfvaMNfOKh"
      },
      "execution_count": 21,
      "outputs": []
    },
    {
      "cell_type": "code",
      "source": [
        "tup = (2,5)\n",
        "\n",
        "print(tup)\n",
        "\n"
      ],
      "metadata": {
        "colab": {
          "base_uri": "https://localhost:8080/"
        },
        "id": "qjbAJB2DfllK",
        "outputId": "a4092ea9-6c1d-4e86-d033-5adcd5f78fe0"
      },
      "execution_count": 22,
      "outputs": [
        {
          "output_type": "stream",
          "name": "stdout",
          "text": [
            "(2, 5)\n"
          ]
        }
      ]
    },
    {
      "cell_type": "code",
      "source": [
        "tup.count(5)"
      ],
      "metadata": {
        "colab": {
          "base_uri": "https://localhost:8080/"
        },
        "id": "NJMyYnCrgPqK",
        "outputId": "2fe3bfed-a065-48a9-942d-5008e369628f"
      },
      "execution_count": 25,
      "outputs": [
        {
          "output_type": "execute_result",
          "data": {
            "text/plain": [
              "1"
            ]
          },
          "metadata": {},
          "execution_count": 25
        }
      ]
    },
    {
      "cell_type": "code",
      "source": [
        "#dictionary\n",
        "\n",
        "my_info = {\"name\":\"Python\", \"dept\":\"Data and Tech\", \"year\":[\"2023\", \"2024\"], \"placement\":False, \"num\":60}"
      ],
      "metadata": {
        "id": "AMCXsPKqgsm6"
      },
      "execution_count": 28,
      "outputs": []
    },
    {
      "cell_type": "code",
      "source": [
        "my_info"
      ],
      "metadata": {
        "colab": {
          "base_uri": "https://localhost:8080/"
        },
        "id": "aeATuSDyhQYs",
        "outputId": "053ab11d-c407-4ba2-8148-f6a338d164a3"
      },
      "execution_count": 29,
      "outputs": [
        {
          "output_type": "execute_result",
          "data": {
            "text/plain": [
              "{'name': 'Python',\n",
              " 'dept': 'Data and Tech',\n",
              " 'year': ['2023', '2024'],\n",
              " 'placement': False,\n",
              " 'num': 60}"
            ]
          },
          "metadata": {},
          "execution_count": 29
        }
      ]
    },
    {
      "cell_type": "code",
      "source": [
        "my_info[\"year\"]"
      ],
      "metadata": {
        "colab": {
          "base_uri": "https://localhost:8080/"
        },
        "id": "vNl3AyKzhwPL",
        "outputId": "6b130f97-c17d-4bc8-ab6e-16af6a19238f"
      },
      "execution_count": 33,
      "outputs": [
        {
          "output_type": "execute_result",
          "data": {
            "text/plain": [
              "['2023', '2024']"
            ]
          },
          "metadata": {},
          "execution_count": 33
        }
      ]
    },
    {
      "cell_type": "code",
      "source": [
        "for k, v in my_info.items():\n",
        "  print(k,v)"
      ],
      "metadata": {
        "colab": {
          "base_uri": "https://localhost:8080/"
        },
        "id": "d1SMd4ulh0_H",
        "outputId": "7dc44b3e-9d6b-4b0d-b63e-376a6f986607"
      },
      "execution_count": 35,
      "outputs": [
        {
          "output_type": "stream",
          "name": "stdout",
          "text": [
            "name Python\n",
            "dept Data and Tech\n",
            "year ['2023', '2024']\n",
            "placement False\n",
            "num 60\n"
          ]
        }
      ]
    },
    {
      "cell_type": "code",
      "source": [
        "for k, v in my_info.items():\n",
        "  print(k)"
      ],
      "metadata": {
        "colab": {
          "base_uri": "https://localhost:8080/"
        },
        "id": "W9NMzK5JiK5E",
        "outputId": "0c75ff44-8665-409e-ddfd-31eced8ce15d"
      },
      "execution_count": 36,
      "outputs": [
        {
          "output_type": "stream",
          "name": "stdout",
          "text": [
            "name\n",
            "dept\n",
            "year\n",
            "placement\n",
            "num\n"
          ]
        }
      ]
    },
    {
      "cell_type": "code",
      "source": [
        "for k, v in my_info.items():\n",
        "  print(v)"
      ],
      "metadata": {
        "colab": {
          "base_uri": "https://localhost:8080/"
        },
        "id": "m4oMcwuZiQo2",
        "outputId": "5cdc440e-2ad9-4b2f-cf9c-eb82b1d2bd7f"
      },
      "execution_count": 37,
      "outputs": [
        {
          "output_type": "stream",
          "name": "stdout",
          "text": [
            "Python\n",
            "Data and Tech\n",
            "['2023', '2024']\n",
            "False\n",
            "60\n"
          ]
        }
      ]
    },
    {
      "cell_type": "code",
      "source": [
        "for key in my_info.keys():\n",
        "  print(key)"
      ],
      "metadata": {
        "colab": {
          "base_uri": "https://localhost:8080/"
        },
        "id": "lvDNgEXPiTe0",
        "outputId": "72e3398e-4e0c-45d0-eb79-273eaa469144"
      },
      "execution_count": 38,
      "outputs": [
        {
          "output_type": "stream",
          "name": "stdout",
          "text": [
            "name\n",
            "dept\n",
            "year\n",
            "placement\n",
            "num\n"
          ]
        }
      ]
    },
    {
      "cell_type": "code",
      "source": [
        "for value in my_info.values():\n",
        "  print(value)"
      ],
      "metadata": {
        "colab": {
          "base_uri": "https://localhost:8080/"
        },
        "id": "w5NPy89oid7h",
        "outputId": "362eda7b-f9a9-410e-dc66-12120ac88339"
      },
      "execution_count": 39,
      "outputs": [
        {
          "output_type": "stream",
          "name": "stdout",
          "text": [
            "Python\n",
            "Data and Tech\n",
            "['2023', '2024']\n",
            "False\n",
            "60\n"
          ]
        }
      ]
    },
    {
      "cell_type": "code",
      "source": [
        "for key, value in enumerate(my_info):\n",
        "  print(key,value)"
      ],
      "metadata": {
        "colab": {
          "base_uri": "https://localhost:8080/"
        },
        "id": "E2esvLa2ih2U",
        "outputId": "4d051afa-eaee-4577-fe3a-ba1cf12a261b"
      },
      "execution_count": 41,
      "outputs": [
        {
          "output_type": "stream",
          "name": "stdout",
          "text": [
            "0 name\n",
            "1 dept\n",
            "2 year\n",
            "3 placement\n",
            "4 num\n"
          ]
        }
      ]
    },
    {
      "cell_type": "code",
      "source": [
        "numbers = [1,1,1,2,3,4,5,6,7,8,9,10,2,2]\n",
        "print(numbers)"
      ],
      "metadata": {
        "colab": {
          "base_uri": "https://localhost:8080/"
        },
        "id": "YNwlt2ooirEH",
        "outputId": "079b8f72-2db0-40af-c632-78c726283c1b"
      },
      "execution_count": 42,
      "outputs": [
        {
          "output_type": "stream",
          "name": "stdout",
          "text": [
            "[1, 1, 1, 2, 3, 4, 5, 6, 7, 8, 9, 10, 2, 2]\n"
          ]
        }
      ]
    },
    {
      "cell_type": "code",
      "source": [
        "numbers = {1,1,1,2,3,4,5,6,7,8,9,10,2,2}\n",
        "print(numbers)"
      ],
      "metadata": {
        "colab": {
          "base_uri": "https://localhost:8080/"
        },
        "id": "DLccKfNLjN5A",
        "outputId": "d9182938-0ae5-4b3e-916c-b58bcc9d791b"
      },
      "execution_count": 43,
      "outputs": [
        {
          "output_type": "stream",
          "name": "stdout",
          "text": [
            "{1, 2, 3, 4, 5, 6, 7, 8, 9, 10}\n"
          ]
        }
      ]
    },
    {
      "cell_type": "code",
      "source": [
        "fr = frozenset({1,1,1,2,3,4,5,6,7,8,9,10,2,2})\n",
        "fr"
      ],
      "metadata": {
        "colab": {
          "base_uri": "https://localhost:8080/"
        },
        "id": "HGfUFjcdjSZR",
        "outputId": "7b729e97-cd99-4672-9a1e-e5ef25b20d7f"
      },
      "execution_count": 45,
      "outputs": [
        {
          "output_type": "execute_result",
          "data": {
            "text/plain": [
              "frozenset({1, 2, 3, 4, 5, 6, 7, 8, 9, 10})"
            ]
          },
          "metadata": {},
          "execution_count": 45
        }
      ]
    },
    {
      "cell_type": "code",
      "source": [
        "#index\n",
        "\n",
        "numbers = [1,1,1,2,3,4,5,6,7,8,9,10,2,2]"
      ],
      "metadata": {
        "id": "lJlpeP10j75N"
      },
      "execution_count": 47,
      "outputs": []
    },
    {
      "cell_type": "code",
      "source": [
        "numbers[0] = 56\n"
      ],
      "metadata": {
        "id": "T12kvYcKlD8h"
      },
      "execution_count": 49,
      "outputs": []
    },
    {
      "cell_type": "code",
      "source": [
        "numbers"
      ],
      "metadata": {
        "colab": {
          "base_uri": "https://localhost:8080/"
        },
        "id": "mX_0ETDllNSI",
        "outputId": "3b7ca18b-ed6a-4acb-dade-7ee294000ace"
      },
      "execution_count": 50,
      "outputs": [
        {
          "output_type": "execute_result",
          "data": {
            "text/plain": [
              "[56, 1, 1, 2, 3, 4, 5, 6, 7, 8, 9, 10, 2, 2]"
            ]
          },
          "metadata": {},
          "execution_count": 50
        }
      ]
    },
    {
      "cell_type": "code",
      "source": [
        "numbers[1]"
      ],
      "metadata": {
        "colab": {
          "base_uri": "https://localhost:8080/"
        },
        "id": "-zInu8RZlQz-",
        "outputId": "5947c90e-15c3-497a-81e6-2eeb50a9379f"
      },
      "execution_count": 51,
      "outputs": [
        {
          "output_type": "execute_result",
          "data": {
            "text/plain": [
              "1"
            ]
          },
          "metadata": {},
          "execution_count": 51
        }
      ]
    },
    {
      "cell_type": "code",
      "source": [
        "numbers[-3]"
      ],
      "metadata": {
        "colab": {
          "base_uri": "https://localhost:8080/"
        },
        "id": "6udSrtWTlZFN",
        "outputId": "eca9a5b6-cca6-4590-bc95-6984f3ec2ca7"
      },
      "execution_count": 54,
      "outputs": [
        {
          "output_type": "execute_result",
          "data": {
            "text/plain": [
              "10"
            ]
          },
          "metadata": {},
          "execution_count": 54
        }
      ]
    },
    {
      "cell_type": "code",
      "source": [
        "numbers[4:7]"
      ],
      "metadata": {
        "colab": {
          "base_uri": "https://localhost:8080/"
        },
        "id": "q19hLEs0lc_I",
        "outputId": "12374e26-45e2-4fdc-932f-8cd0317d86b9"
      },
      "execution_count": 57,
      "outputs": [
        {
          "output_type": "execute_result",
          "data": {
            "text/plain": [
              "[3, 4, 5]"
            ]
          },
          "metadata": {},
          "execution_count": 57
        }
      ]
    },
    {
      "cell_type": "code",
      "source": [
        "8/a"
      ],
      "metadata": {
        "colab": {
          "base_uri": "https://localhost:8080/",
          "height": 144
        },
        "id": "PCZO3Akmlm93",
        "outputId": "e3881e76-e189-4877-85fa-01464362ab82"
      },
      "execution_count": 60,
      "outputs": [
        {
          "output_type": "error",
          "ename": "NameError",
          "evalue": "name 'a' is not defined",
          "traceback": [
            "\u001b[0;31m---------------------------------------------------------------------------\u001b[0m",
            "\u001b[0;31mNameError\u001b[0m                                 Traceback (most recent call last)",
            "\u001b[0;32m<ipython-input-60-f08799c79503>\u001b[0m in \u001b[0;36m<cell line: 1>\u001b[0;34m()\u001b[0m\n\u001b[0;32m----> 1\u001b[0;31m \u001b[0;36m8\u001b[0m\u001b[0;34m/\u001b[0m\u001b[0ma\u001b[0m\u001b[0;34m\u001b[0m\u001b[0;34m\u001b[0m\u001b[0m\n\u001b[0m",
            "\u001b[0;31mNameError\u001b[0m: name 'a' is not defined"
          ]
        }
      ]
    },
    {
      "cell_type": "code",
      "source": [
        "try:\n",
        "  y = 8\n",
        "  x = a\n",
        "  z = y/x\n",
        "except ZeroDivisionError:\n",
        "  print(\"Can not be divided by zero\")\n",
        "except NameError:\n",
        "  print(\"Can not be divided by a letter\")"
      ],
      "metadata": {
        "colab": {
          "base_uri": "https://localhost:8080/"
        },
        "id": "lg51sy8pmOA7",
        "outputId": "c0ff1f67-a26b-445d-bb21-4bb3a2d89867"
      },
      "execution_count": 62,
      "outputs": [
        {
          "output_type": "stream",
          "name": "stdout",
          "text": [
            "Can not be divided by a letter\n"
          ]
        }
      ]
    },
    {
      "cell_type": "code",
      "source": [],
      "metadata": {
        "id": "WLN3ctqhmipX"
      },
      "execution_count": null,
      "outputs": []
    }
  ]
}